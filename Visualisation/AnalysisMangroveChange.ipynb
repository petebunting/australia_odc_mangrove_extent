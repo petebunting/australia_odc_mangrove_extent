{
 "cells": [
  {
   "cell_type": "code",
   "execution_count": 1,
   "metadata": {},
   "outputs": [],
   "source": [
    "import pandas\n",
    "import numpy\n",
    "import matplotlib.pyplot as plt\n",
    "%matplotlib inline"
   ]
  },
  {
   "cell_type": "code",
   "execution_count": 2,
   "metadata": {},
   "outputs": [
    {
     "data": {
      "text/plain": [
       "(30, 9516)"
      ]
     },
     "execution_count": 2,
     "metadata": {},
     "output_type": "execute_result"
    }
   ],
   "source": [
    "data = pandas.read_pickle(\"MangChangePVFC_V2.1_1987_to_2016.pkl.gz\", compression=\"gzip\")\n",
    "data.shape"
   ]
  },
  {
   "cell_type": "code",
   "execution_count": 3,
   "metadata": {},
   "outputs": [
    {
     "data": {
      "text/html": [
       "<div>\n",
       "<style scoped>\n",
       "    .dataframe tbody tr th:only-of-type {\n",
       "        vertical-align: middle;\n",
       "    }\n",
       "\n",
       "    .dataframe tbody tr th {\n",
       "        vertical-align: top;\n",
       "    }\n",
       "\n",
       "    .dataframe thead tr th {\n",
       "        text-align: left;\n",
       "    }\n",
       "</style>\n",
       "<table border=\"1\" class=\"dataframe\">\n",
       "  <thead>\n",
       "    <tr>\n",
       "      <th>GridID</th>\n",
       "      <th colspan=\"4\" halign=\"left\">1</th>\n",
       "      <th colspan=\"4\" halign=\"left\">2</th>\n",
       "      <th colspan=\"2\" halign=\"left\">3</th>\n",
       "      <th>...</th>\n",
       "      <th colspan=\"2\" halign=\"left\">2377</th>\n",
       "      <th colspan=\"4\" halign=\"left\">2378</th>\n",
       "      <th colspan=\"4\" halign=\"left\">2379</th>\n",
       "    </tr>\n",
       "    <tr>\n",
       "      <th>PxlCount</th>\n",
       "      <th>total</th>\n",
       "      <th>low</th>\n",
       "      <th>mid</th>\n",
       "      <th>high</th>\n",
       "      <th>total</th>\n",
       "      <th>low</th>\n",
       "      <th>mid</th>\n",
       "      <th>high</th>\n",
       "      <th>total</th>\n",
       "      <th>low</th>\n",
       "      <th>...</th>\n",
       "      <th>mid</th>\n",
       "      <th>high</th>\n",
       "      <th>total</th>\n",
       "      <th>low</th>\n",
       "      <th>mid</th>\n",
       "      <th>high</th>\n",
       "      <th>total</th>\n",
       "      <th>low</th>\n",
       "      <th>mid</th>\n",
       "      <th>high</th>\n",
       "    </tr>\n",
       "  </thead>\n",
       "  <tbody>\n",
       "    <tr>\n",
       "      <th>1987</th>\n",
       "      <td>780</td>\n",
       "      <td>3</td>\n",
       "      <td>144</td>\n",
       "      <td>633</td>\n",
       "      <td>1772</td>\n",
       "      <td>74</td>\n",
       "      <td>1011</td>\n",
       "      <td>687</td>\n",
       "      <td>403</td>\n",
       "      <td>317</td>\n",
       "      <td>...</td>\n",
       "      <td>468</td>\n",
       "      <td>9</td>\n",
       "      <td>20974</td>\n",
       "      <td>2387</td>\n",
       "      <td>10104</td>\n",
       "      <td>8483</td>\n",
       "      <td>5642</td>\n",
       "      <td>1039</td>\n",
       "      <td>4600</td>\n",
       "      <td>3</td>\n",
       "    </tr>\n",
       "    <tr>\n",
       "      <th>1988</th>\n",
       "      <td>779</td>\n",
       "      <td>24</td>\n",
       "      <td>131</td>\n",
       "      <td>624</td>\n",
       "      <td>1778</td>\n",
       "      <td>65</td>\n",
       "      <td>1266</td>\n",
       "      <td>447</td>\n",
       "      <td>247</td>\n",
       "      <td>230</td>\n",
       "      <td>...</td>\n",
       "      <td>439</td>\n",
       "      <td>0</td>\n",
       "      <td>21250</td>\n",
       "      <td>3226</td>\n",
       "      <td>15324</td>\n",
       "      <td>2700</td>\n",
       "      <td>5623</td>\n",
       "      <td>905</td>\n",
       "      <td>4710</td>\n",
       "      <td>8</td>\n",
       "    </tr>\n",
       "    <tr>\n",
       "      <th>1989</th>\n",
       "      <td>778</td>\n",
       "      <td>5</td>\n",
       "      <td>244</td>\n",
       "      <td>529</td>\n",
       "      <td>1754</td>\n",
       "      <td>62</td>\n",
       "      <td>936</td>\n",
       "      <td>756</td>\n",
       "      <td>232</td>\n",
       "      <td>214</td>\n",
       "      <td>...</td>\n",
       "      <td>443</td>\n",
       "      <td>0</td>\n",
       "      <td>21361</td>\n",
       "      <td>2819</td>\n",
       "      <td>11075</td>\n",
       "      <td>7467</td>\n",
       "      <td>5663</td>\n",
       "      <td>611</td>\n",
       "      <td>4892</td>\n",
       "      <td>160</td>\n",
       "    </tr>\n",
       "    <tr>\n",
       "      <th>1990</th>\n",
       "      <td>779</td>\n",
       "      <td>31</td>\n",
       "      <td>116</td>\n",
       "      <td>632</td>\n",
       "      <td>1783</td>\n",
       "      <td>56</td>\n",
       "      <td>1045</td>\n",
       "      <td>682</td>\n",
       "      <td>90</td>\n",
       "      <td>80</td>\n",
       "      <td>...</td>\n",
       "      <td>381</td>\n",
       "      <td>0</td>\n",
       "      <td>19461</td>\n",
       "      <td>3214</td>\n",
       "      <td>14449</td>\n",
       "      <td>1798</td>\n",
       "      <td>5614</td>\n",
       "      <td>950</td>\n",
       "      <td>4661</td>\n",
       "      <td>3</td>\n",
       "    </tr>\n",
       "    <tr>\n",
       "      <th>1991</th>\n",
       "      <td>774</td>\n",
       "      <td>31</td>\n",
       "      <td>325</td>\n",
       "      <td>418</td>\n",
       "      <td>1768</td>\n",
       "      <td>100</td>\n",
       "      <td>1396</td>\n",
       "      <td>272</td>\n",
       "      <td>121</td>\n",
       "      <td>117</td>\n",
       "      <td>...</td>\n",
       "      <td>322</td>\n",
       "      <td>0</td>\n",
       "      <td>20160</td>\n",
       "      <td>5279</td>\n",
       "      <td>14384</td>\n",
       "      <td>497</td>\n",
       "      <td>5638</td>\n",
       "      <td>1279</td>\n",
       "      <td>4359</td>\n",
       "      <td>0</td>\n",
       "    </tr>\n",
       "  </tbody>\n",
       "</table>\n",
       "<p>5 rows × 9516 columns</p>\n",
       "</div>"
      ],
      "text/plain": [
       "GridID    1                   2                     3         ...  2377       \\\n",
       "PxlCount total low  mid high total  low   mid high total  low ...   mid high   \n",
       "1987       780   3  144  633  1772   74  1011  687   403  317 ...   468    9   \n",
       "1988       779  24  131  624  1778   65  1266  447   247  230 ...   439    0   \n",
       "1989       778   5  244  529  1754   62   936  756   232  214 ...   443    0   \n",
       "1990       779  31  116  632  1783   56  1045  682    90   80 ...   381    0   \n",
       "1991       774  31  325  418  1768  100  1396  272   121  117 ...   322    0   \n",
       "\n",
       "GridID     2378                     2379                   \n",
       "PxlCount  total   low    mid  high total   low   mid high  \n",
       "1987      20974  2387  10104  8483  5642  1039  4600    3  \n",
       "1988      21250  3226  15324  2700  5623   905  4710    8  \n",
       "1989      21361  2819  11075  7467  5663   611  4892  160  \n",
       "1990      19461  3214  14449  1798  5614   950  4661    3  \n",
       "1991      20160  5279  14384   497  5638  1279  4359    0  \n",
       "\n",
       "[5 rows x 9516 columns]"
      ]
     },
     "execution_count": 3,
     "metadata": {},
     "output_type": "execute_result"
    }
   ],
   "source": [
    "data.head()"
   ]
  },
  {
   "cell_type": "code",
   "execution_count": 4,
   "metadata": {},
   "outputs": [],
   "source": [
    "#data.T.xs('total', level='PxlCount').T"
   ]
  },
  {
   "cell_type": "code",
   "execution_count": 5,
   "metadata": {},
   "outputs": [],
   "source": [
    "tilesOfInterest = numpy.arange(1, 2380, 1)\n",
    "\n",
    "#[1809]#[2329, 2330, 2332]#[1326, 1327, 1558]#[1657]#[970, 971, 972, 1211, 1212, 1213]#[664, 665, 666, 668, 670, 901, 902]#[2044, 2045, 2046, 2047, 2048, 1795, 1796, 1797, 1798, 1550, 1551, 1552]\n",
    "\n",
    "# Gulf\n",
    "#tilesOfInterest = [1564, 1565, 3, 525, 6, 530, 532, 13, 534, 2098, 15, 2099, 1058, 17, 1059, 18, 1060, 2102, 19, 21, 2105, 22, 2108, 2110, 2112, 2113, 2115, 2117, 1598, 2119, 1600, 2122, 1603, 1605, 1607, 1608, 1088, 1609, 1089, 2132, 2133, 2136, 2139, 56, 577, 57, 59, 1625, 2147, 1628, 2149, 1630, 2151, 2152, 1632, 2153, 1633, 2154, 2155, 1635, 596, 597, 598, 599, 79, 600, 80, 601, 81, 602, 82, 1124, 83, 605, 1126, 1127, 1128, 1662, 1663, 1664, 1665, 1666, 1667, 2188, 1147, 1668, 2189, 1148, 1669, 2190, 110, 111, 112, 114, 635, 117, 638, 118, 639, 119, 640, 2203, 120, 641, 2204, 2205, 643, 2206, 2209, 1171, 1172, 136, 137, 138, 661, 1703, 1704, 663, 1709, 1710, 1711, 1712, 1713, 1714, 1715, 1716, 1717, 1720, 1722, 1724, 2246, 2247, 2248, 2249, 2250, 2251, 2253, 2255, 2258, 1218, 1219, 1220, 1741, 1744, 1746, 1747, 706, 707, 1749, 708, 188, 709, 710, 190, 191, 192, 1234, 1235, 2277, 1236, 1237, 2279, 2280, 1777, 1779, 1780, 223, 224, 1267, 748, 749, 750, 233, 234, 235, 236, 237, 758, 238, 759, 1280, 760, 240, 761, 1282, 1283, 242, 1284, 2327, 1807, 2328, 1287, 1808, 2329, 1809, 2330, 1810, 1290, 2332, 2334, 772, 773, 774, 775, 257, 259, 261, 1303, 1304, 263, 1305, 1842, 2363, 1843, 1846, 1848, 1849, 1850, 1330, 1851, 1331, 1332, 1853, 1333, 2376, 2377, 2378, 816, 2379, 1859, 1861, 1863, 1865, 1867, 1868, 306, 308, 1879, 839, 840, 841, 1366, 325, 326, 327, 328, 329, 1371, 1372, 1894, 332, 1374, 1895, 1896, 1376, 1897, 1898, 1899, 1900, 1901, 1396, 876, 1397, 1398, 880, 1401, 881, 361, 362, 363, 364, 367, 368, 369, 370, 371, 1934, 372, 1935, 899, 900, 1424, 1425, 1426, 1427, 1948, 1428, 1949, 387, 1429, 1950, 1430, 1951, 389, 1952, 1953, 1954, 392, 1955, 1957, 1960, 930, 931, 932, 933, 934, 1457, 1458, 1459, 1467, 1468, 1469, 1990, 1470, 1991, 1471, 1992, 1472, 1993, 1473, 1994, 1474, 1995, 1996, 1476, 1997, 2001, 2003, 2005, 2006, 452, 453, 454, 455, 976, 977, 978, 1506, 2027, 1508, 2029, 1509, 1510, 990, 991, 992, 993, 1514, 994, 1517, 491, 492, 493, 494, 1536, 1017, 1019, 2065, 503, 2066, 504, 505, 506, 2069, 507, 508, 510, 1035, 1562, 521, 1563]\n",
    "\n",
    "#tilesOfInterest = [2297, 2043, 157, 2044, 2045, 2046, 2047, 2048, 1793, 1794, 1795, 1796, 1797, 1798, 1799, 1548, 1549, 1550, 1551, 1552]#[1672]#[936, 1174, 938, 1176, 1431, 1672, 196, 713, 459, 1904]\n",
    "\n",
    "outData = data[tilesOfInterest[0]][['total','low','mid','high']]\n",
    "if len(tilesOfInterest) > 1:\n",
    "    for tile in tilesOfInterest[1:]:\n",
    "        outData = outData + data[tile][['total','low','mid','high']]\n",
    "\n",
    "outData = (outData * 625) / 1000000\n",
    "#outData"
   ]
  },
  {
   "cell_type": "code",
   "execution_count": 6,
   "metadata": {},
   "outputs": [
    {
     "data": {
      "text/plain": [
       "Text(0,0.5,'Area (km$^{2}$)')"
      ]
     },
     "execution_count": 6,
     "metadata": {},
     "output_type": "execute_result"
    },
    {
     "data": {
      "image/png": "[encoded data removed]",
      "text/plain": [
       "<matplotlib.figure.Figure at 0x113752630>"
      ]
     },
     "metadata": {},
     "output_type": "display_data"
    }
   ],
   "source": [
    "\n",
    "#ax = data.T.xs('total', level='PxlCount').T.plot(x=data.index, y=tileOfInterest, legend=False)\n",
    "\n",
    "ax=outData['total'].plot(x=outData.index, y=outData['total'], legend=False)\n",
    "ax.set_ylim(0, outData['total'].values.max()*1.1)\n",
    "ax.set_xlabel('Time (Years)')\n",
    "ax.set_ylabel('Area (km$^{2}$)')\n"
   ]
  },
  {
   "cell_type": "code",
   "execution_count": 7,
   "metadata": {},
   "outputs": [
    {
     "data": {
      "text/plain": [
       "Text(0,0.5,'Area (km$^{2}$)')"
      ]
     },
     "execution_count": 7,
     "metadata": {},
     "output_type": "execute_result"
    },
    {
     "data": {
      "image/png": "[encoded data removed]",
      "text/plain": [
       "<matplotlib.figure.Figure at 0x1132ab6d8>"
      ]
     },
     "metadata": {},
     "output_type": "display_data"
    }
   ],
   "source": [
    "#data[tileOfInterest][['low','mid','high']].plot.bar(stacked=True, figsize=(10,7), color=['#9FFF4C', '#5ECC00', '#3B7F00'], legend=False, width=1.0)\n",
    "\n",
    "ax=outData[['low','mid','high']].plot.bar(stacked=True, figsize=(10,7), color=['#9FFF4C', '#5ECC00', '#3B7F00'], legend=False, width=1.0)\n",
    "ax.set_xlabel('Time (Years)')\n",
    "ax.set_ylabel('Area (km$^{2}$)')"
   ]
  },
  {
   "cell_type": "code",
   "execution_count": null,
   "metadata": {},
   "outputs": [],
   "source": []
  }
 ],
 "metadata": {
  "kernelspec": {
   "display_name": "Python 3",
   "language": "python",
   "name": "python3"
  },
  "language_info": {
   "codemirror_mode": {
    "name": "ipython",
    "version": 3
   },
   "file_extension": ".py",
   "mimetype": "text/x-python",
   "name": "python",
   "nbconvert_exporter": "python",
   "pygments_lexer": "ipython3",
   "version": "3.5.4"
  }
 },
 "nbformat": 4,
 "nbformat_minor": 2
}
